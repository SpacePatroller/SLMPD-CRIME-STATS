{
 "cells": [
  {
   "cell_type": "code",
   "execution_count": 43,
   "metadata": {},
   "outputs": [],
   "source": [
    "import pandas as pd \n",
    "import numpy as np\n",
    "import seaborn as sb\n",
    "import os\n",
    "import glob"
   ]
  },
  {
   "cell_type": "code",
   "execution_count": 8,
   "metadata": {},
   "outputs": [
    {
     "name": "stdout",
     "output_type": "stream",
     "text": [
      "\u001b[34mHeroku_Django_\u001b[m\u001b[m                   \u001b[34mSLMPD-CRIME-STATS\u001b[m\u001b[m\r\n",
      "Marketing Schedules VBA 1.0.xlsx \u001b[34mThe-Flask-Mega-Tutorial-\u001b[m\u001b[m\r\n",
      "Marketing Schedules VBA.xlsx     \u001b[34mWASHSTL201809DATA3\u001b[m\u001b[m\r\n"
     ]
    }
   ],
   "source": [
    "!ls ../\n"
   ]
  },
  {
   "cell_type": "code",
   "execution_count": 109,
   "metadata": {},
   "outputs": [
    {
     "name": "stdout",
     "output_type": "stream",
     "text": [
      "/Users/emanshupatel/Desktop/crime_data\n"
     ]
    }
   ],
   "source": [
    "#get current working directory \n",
    "cwd = os.getcwd()\n",
    "print(cwd)"
   ]
  },
  {
   "cell_type": "code",
   "execution_count": 129,
   "metadata": {},
   "outputs": [
    {
     "name": "stdout",
     "output_type": "stream",
     "text": [
      "/Users/emanshupatel/Desktop/crime_data\n"
     ]
    }
   ],
   "source": [
    "#change directory to file location\n",
    "os.chdir('../../Desktop/crime_data/')\n",
    "print(cwd)"
   ]
  },
  {
   "cell_type": "code",
   "execution_count": 114,
   "metadata": {},
   "outputs": [],
   "source": [
    "extension = 'csv'\n",
    "all_filenames = [i for i in glob.glob('*.{}'.format(extension))]"
   ]
  },
  {
   "cell_type": "code",
   "execution_count": 125,
   "metadata": {},
   "outputs": [],
   "source": [
    "df = pd.DataFrame()\n",
    "\n",
    "for file in all_filenames:\n",
    "    x = pd.read_csv(file, encoding= 'unicode_escape')\n",
    "    df = df.append(x)"
   ]
  },
  {
   "cell_type": "code",
   "execution_count": 128,
   "metadata": {},
   "outputs": [
    {
     "data": {
      "text/html": [
       "<div>\n",
       "<style scoped>\n",
       "    .dataframe tbody tr th:only-of-type {\n",
       "        vertical-align: middle;\n",
       "    }\n",
       "\n",
       "    .dataframe tbody tr th {\n",
       "        vertical-align: top;\n",
       "    }\n",
       "\n",
       "    .dataframe thead th {\n",
       "        text-align: right;\n",
       "    }\n",
       "</style>\n",
       "<table border=\"1\" class=\"dataframe\">\n",
       "  <thead>\n",
       "    <tr style=\"text-align: right;\">\n",
       "      <th></th>\n",
       "      <th>Count</th>\n",
       "      <th>Crime</th>\n",
       "      <th>District</th>\n",
       "      <th>Neighborhood</th>\n",
       "      <th>XCoord</th>\n",
       "      <th>YCoord</th>\n",
       "    </tr>\n",
       "  </thead>\n",
       "  <tbody>\n",
       "    <tr>\n",
       "      <th>count</th>\n",
       "      <td>293633.000000</td>\n",
       "      <td>293633.000000</td>\n",
       "      <td>293633.000000</td>\n",
       "      <td>293633.000000</td>\n",
       "      <td>293633.000000</td>\n",
       "      <td>2.936330e+05</td>\n",
       "    </tr>\n",
       "    <tr>\n",
       "      <th>mean</th>\n",
       "      <td>0.963540</td>\n",
       "      <td>102129.187080</td>\n",
       "      <td>4.663195</td>\n",
       "      <td>39.346446</td>\n",
       "      <td>878862.299912</td>\n",
       "      <td>1.002293e+06</td>\n",
       "    </tr>\n",
       "    <tr>\n",
       "      <th>std</th>\n",
       "      <td>0.267567</td>\n",
       "      <td>66994.165459</td>\n",
       "      <td>2.584574</td>\n",
       "      <td>23.251540</td>\n",
       "      <td>114124.475622</td>\n",
       "      <td>1.307289e+05</td>\n",
       "    </tr>\n",
       "    <tr>\n",
       "      <th>min</th>\n",
       "      <td>-1.000000</td>\n",
       "      <td>10000.000000</td>\n",
       "      <td>0.000000</td>\n",
       "      <td>0.000000</td>\n",
       "      <td>0.000000</td>\n",
       "      <td>0.000000e+00</td>\n",
       "    </tr>\n",
       "    <tr>\n",
       "      <th>25%</th>\n",
       "      <td>1.000000</td>\n",
       "      <td>63701.000000</td>\n",
       "      <td>3.000000</td>\n",
       "      <td>17.000000</td>\n",
       "      <td>887710.900000</td>\n",
       "      <td>1.005723e+06</td>\n",
       "    </tr>\n",
       "    <tr>\n",
       "      <th>50%</th>\n",
       "      <td>1.000000</td>\n",
       "      <td>71013.000000</td>\n",
       "      <td>4.000000</td>\n",
       "      <td>37.000000</td>\n",
       "      <td>893357.400000</td>\n",
       "      <td>1.018822e+06</td>\n",
       "    </tr>\n",
       "    <tr>\n",
       "      <th>75%</th>\n",
       "      <td>1.000000</td>\n",
       "      <td>142320.000000</td>\n",
       "      <td>7.000000</td>\n",
       "      <td>59.000000</td>\n",
       "      <td>899038.800000</td>\n",
       "      <td>1.030280e+06</td>\n",
       "    </tr>\n",
       "    <tr>\n",
       "      <th>max</th>\n",
       "      <td>1.000000</td>\n",
       "      <td>266999.000000</td>\n",
       "      <td>9.000000</td>\n",
       "      <td>88.000000</td>\n",
       "      <td>923707.100000</td>\n",
       "      <td>1.117797e+06</td>\n",
       "    </tr>\n",
       "  </tbody>\n",
       "</table>\n",
       "</div>"
      ],
      "text/plain": [
       "               Count          Crime       District   Neighborhood  \\\n",
       "count  293633.000000  293633.000000  293633.000000  293633.000000   \n",
       "mean        0.963540  102129.187080       4.663195      39.346446   \n",
       "std         0.267567   66994.165459       2.584574      23.251540   \n",
       "min        -1.000000   10000.000000       0.000000       0.000000   \n",
       "25%         1.000000   63701.000000       3.000000      17.000000   \n",
       "50%         1.000000   71013.000000       4.000000      37.000000   \n",
       "75%         1.000000  142320.000000       7.000000      59.000000   \n",
       "max         1.000000  266999.000000       9.000000      88.000000   \n",
       "\n",
       "              XCoord        YCoord  \n",
       "count  293633.000000  2.936330e+05  \n",
       "mean   878862.299912  1.002293e+06  \n",
       "std    114124.475622  1.307289e+05  \n",
       "min         0.000000  0.000000e+00  \n",
       "25%    887710.900000  1.005723e+06  \n",
       "50%    893357.400000  1.018822e+06  \n",
       "75%    899038.800000  1.030280e+06  \n",
       "max    923707.100000  1.117797e+06  "
      ]
     },
     "execution_count": 128,
     "metadata": {},
     "output_type": "execute_result"
    }
   ],
   "source": [
    "df.head()\n",
    "df.describe()"
   ]
  },
  {
   "cell_type": "code",
   "execution_count": null,
   "metadata": {},
   "outputs": [],
   "source": []
  }
 ],
 "metadata": {
  "kernelspec": {
   "display_name": "Python 3",
   "language": "python",
   "name": "python3"
  },
  "language_info": {
   "codemirror_mode": {
    "name": "ipython",
    "version": 3
   },
   "file_extension": ".py",
   "mimetype": "text/x-python",
   "name": "python",
   "nbconvert_exporter": "python",
   "pygments_lexer": "ipython3",
   "version": "3.7.6"
  }
 },
 "nbformat": 4,
 "nbformat_minor": 4
}
